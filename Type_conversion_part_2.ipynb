{
  "nbformat": 4,
  "nbformat_minor": 0,
  "metadata": {
    "colab": {
      "provenance": [],
      "include_colab_link": true
    },
    "kernelspec": {
      "name": "python3",
      "display_name": "Python 3"
    },
    "language_info": {
      "name": "python"
    }
  },
  "cells": [
    {
      "cell_type": "markdown",
      "metadata": {
        "id": "view-in-github",
        "colab_type": "text"
      },
      "source": [
        "<a href=\"https://colab.research.google.com/github/vananthi/Python-Data-Types/blob/main/Type_conversion_part_2.ipynb\" target=\"_parent\"><img src=\"https://colab.research.google.com/assets/colab-badge.svg\" alt=\"Open In Colab\"/></a>"
      ]
    },
    {
      "cell_type": "markdown",
      "source": [
        "**#type conversion part 2 : data type conversion**"
      ],
      "metadata": {
        "id": "-IjHmxEJJUWa"
      }
    },
    {
      "cell_type": "code",
      "source": [
        "a = 10.1"
      ],
      "metadata": {
        "id": "o38xTRDhZQqZ"
      },
      "execution_count": 17,
      "outputs": []
    },
    {
      "cell_type": "code",
      "source": [
        "type(a)"
      ],
      "metadata": {
        "colab": {
          "base_uri": "https://localhost:8080/"
        },
        "id": "zhs_Y0RFZg6R",
        "outputId": "e06b352e-d41b-4e96-b780-8f4f5c031d9a"
      },
      "execution_count": 18,
      "outputs": [
        {
          "output_type": "execute_result",
          "data": {
            "text/plain": [
              "float"
            ]
          },
          "metadata": {},
          "execution_count": 18
        }
      ]
    },
    {
      "cell_type": "code",
      "source": [
        "int(a)  # 1. float to int type conversion is possible"
      ],
      "metadata": {
        "colab": {
          "base_uri": "https://localhost:8080/"
        },
        "id": "_g9FS8F8ZkG9",
        "outputId": "b342341f-974f-4c3d-ac4f-ab69568c9cc6"
      },
      "execution_count": 20,
      "outputs": [
        {
          "output_type": "execute_result",
          "data": {
            "text/plain": [
              "10"
            ]
          },
          "metadata": {},
          "execution_count": 20
        }
      ]
    },
    {
      "cell_type": "code",
      "source": [
        "str(a)   # 2. float to str type conversion is possible"
      ],
      "metadata": {
        "colab": {
          "base_uri": "https://localhost:8080/",
          "height": 36
        },
        "id": "kkNjtErfZzO7",
        "outputId": "455a70c0-c277-4263-df1a-a6810a94e82c"
      },
      "execution_count": 21,
      "outputs": [
        {
          "output_type": "execute_result",
          "data": {
            "text/plain": [
              "'10.1'"
            ],
            "application/vnd.google.colaboratory.intrinsic+json": {
              "type": "string"
            }
          },
          "metadata": {},
          "execution_count": 21
        }
      ]
    },
    {
      "cell_type": "code",
      "source": [
        "bool(a)  # 3.float to bool type conversion possible"
      ],
      "metadata": {
        "colab": {
          "base_uri": "https://localhost:8080/"
        },
        "id": "LG86oHDZaBUt",
        "outputId": "2246c8bd-c9fe-4d36-a3df-d02272cd9434"
      },
      "execution_count": 22,
      "outputs": [
        {
          "output_type": "execute_result",
          "data": {
            "text/plain": [
              "True"
            ]
          },
          "metadata": {},
          "execution_count": 22
        }
      ]
    },
    {
      "cell_type": "code",
      "source": [
        "complex(a) # 4. float to complex type conversion possible"
      ],
      "metadata": {
        "colab": {
          "base_uri": "https://localhost:8080/"
        },
        "id": "VmjBGPgLaI2U",
        "outputId": "7941e88e-c89e-4ecf-da15-53b58c5291e4"
      },
      "execution_count": 23,
      "outputs": [
        {
          "output_type": "execute_result",
          "data": {
            "text/plain": [
              "(10.1+0j)"
            ]
          },
          "metadata": {},
          "execution_count": 23
        }
      ]
    },
    {
      "cell_type": "code",
      "source": [
        "# get input in python\n",
        "\n",
        "a = 515.31725  # value declaration\n",
        "b = 758.75868\n",
        "c = a + b\n"
      ],
      "metadata": {
        "id": "HYOzn9WAmJem"
      },
      "execution_count": 25,
      "outputs": []
    },
    {
      "cell_type": "code",
      "source": [
        "# display the object\n",
        "print(c)"
      ],
      "metadata": {
        "colab": {
          "base_uri": "https://localhost:8080/"
        },
        "id": "ceMz1e-om5g9",
        "outputId": "1133a63b-3449-4295-e514-b20270062cf0"
      },
      "execution_count": 26,
      "outputs": [
        {
          "output_type": "stream",
          "name": "stdout",
          "text": [
            "1274.07593\n"
          ]
        }
      ]
    },
    {
      "cell_type": "code",
      "source": [
        "# call the object / reference an object\n",
        "c"
      ],
      "metadata": {
        "colab": {
          "base_uri": "https://localhost:8080/"
        },
        "id": "0MXbI0yknB8k",
        "outputId": "26848266-cfc5-49d5-ab3d-9c4fdbde6be5"
      },
      "execution_count": 27,
      "outputs": [
        {
          "output_type": "execute_result",
          "data": {
            "text/plain": [
              "1274.07593"
            ]
          },
          "metadata": {},
          "execution_count": 27
        }
      ]
    },
    {
      "cell_type": "code",
      "source": [
        "a = int(input(\"enter a value:\"))\n",
        "b = float(input(\"b enna sollu :\"))\n",
        "name = str(input(\"enter name:\"))\n",
        "c = a+ b\n",
        "print(c,name)"
      ],
      "metadata": {
        "colab": {
          "base_uri": "https://localhost:8080/"
        },
        "id": "KQ50oT8xneE-",
        "outputId": "dbd8dba2-77cc-4ffb-f137-065896832fbe"
      },
      "execution_count": 28,
      "outputs": [
        {
          "output_type": "stream",
          "name": "stdout",
          "text": [
            "enter a value:45\n",
            "b enna sollu :67\n",
            "enter name:ananthi\n",
            "112.0 ananthi\n"
          ]
        }
      ]
    }
  ]
}